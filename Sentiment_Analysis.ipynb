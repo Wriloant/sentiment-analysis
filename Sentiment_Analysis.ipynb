{
  "nbformat": 4,
  "nbformat_minor": 0,
  "metadata": {
    "colab": {
      "provenance": []
    },
    "kernelspec": {
      "name": "python3",
      "display_name": "Python 3"
    },
    "language_info": {
      "name": "python"
    }
  },
  "cells": [
    {
      "cell_type": "markdown",
      "source": [
        "# Sentiment Analysis"
      ],
      "metadata": {
        "id": "UeY_6KCdU5q3"
      }
    },
    {
      "cell_type": "markdown",
      "source": [
        "## Imports & Configs"
      ],
      "metadata": {
        "id": "HuWqiZ6mVcZJ"
      }
    },
    {
      "cell_type": "code",
      "source": [
        "import re\n",
        "import torch\n",
        "import torch.nn as nn\n",
        "import torch.nn.functional as F\n",
        "import pandas as pd\n",
        "import numpy as np\n",
        "from torch.utils.data import Dataset , DataLoader\n",
        "from torch.nn.utils.rnn import pad_sequence\n",
        "from sklearn.model_selection import train_test_split\n",
        "from sklearn.metrics import f1_score, accuracy_score\n",
        "from tqdm import tqdm\n",
        "import nltk\n",
        "nltk.download('punkt')\n",
        "\n",
        "# setup device agnostic code\n",
        "device = torch.device('cuda' if torch.cuda.is_available() else 'cpu')\n",
        "device\n"
      ],
      "metadata": {
        "id": "KObSJWbFVcb3"
      },
      "execution_count": null,
      "outputs": []
    },
    {
      "cell_type": "markdown",
      "source": [
        "## Load Dataset (IMDB from huggingface)"
      ],
      "metadata": {
        "id": "jKfQC1XaVce4"
      }
    },
    {
      "cell_type": "code",
      "source": [
        "from datasets import load_dataset\n",
        "dataset = load_dataset(\"imdb\")\n",
        "\n",
        "train_texts = dataset['train']['text']\n",
        "train_labels = dataset['train']['label']\n",
        "test_texts  = dataset['test']['text']\n",
        "test_labels  = dataset['test']['label']\n",
        "\n",
        "\n",
        "\n"
      ],
      "metadata": {
        "id": "rbKbsWu5Vch4"
      },
      "execution_count": null,
      "outputs": []
    },
    {
      "cell_type": "code",
      "source": [
        "print(f'Train size: {len(train_texts)}')\n",
        "print(f'Test size: {len(test_texts)}')\n"
      ],
      "metadata": {
        "id": "eYaDXscNVckw"
      },
      "execution_count": null,
      "outputs": []
    },
    {
      "cell_type": "markdown",
      "source": [
        "## Preprocessing"
      ],
      "metadata": {
        "id": "KpPQ8WMmVcnI"
      }
    },
    {
      "cell_type": "code",
      "source": [
        "def clean_text(string):\n",
        "  string = string.lower()\n",
        "  string = re.sub(r\"https\\S+\",\"\",string)\n",
        "  string = re.sub(r\"@\\w+\", \"\", string)\n",
        "  string = re.sub(r\"[^a-z0-9\\s']\",\" \",string)\n",
        "  string = re.sub(r\"\\s+\",\" \",string).strip()\n",
        "\n",
        "  return string\n",
        "\n"
      ],
      "metadata": {
        "id": "gI0u39t9VcqQ"
      },
      "execution_count": null,
      "outputs": []
    },
    {
      "cell_type": "code",
      "source": [],
      "metadata": {
        "id": "qjmOsOMZVctI"
      },
      "execution_count": null,
      "outputs": []
    }
  ]
}